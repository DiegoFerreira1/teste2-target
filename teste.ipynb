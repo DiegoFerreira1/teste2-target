{
 "cells": [
  {
   "cell_type": "code",
   "execution_count": null,
   "metadata": {},
   "outputs": [],
   "source": [
    "# Questão 1\n",
    "\n",
    "def fibonacci(n):\n",
    "    if n == 0:\n",
    "        return 0\n",
    "    elif n == 1:\n",
    "        return 1\n",
    "    else:\n",
    "        return fibonacci(n - 1) + fibonacci(n - 2)\n",
    "\n",
    "def is_fibonacci(num, n=0):\n",
    "    fib_num = fibonacci(n)\n",
    "    if fib_num == num:\n",
    "        return True\n",
    "    elif fib_num > num:\n",
    "        return False\n",
    "    else:\n",
    "        return is_fibonacci(num, n + 1)\n",
    "\n",
    "\n",
    "numero_informado = int(input(\"Informe um número: \"))\n",
    "\n",
    "if is_fibonacci(numero_informado):\n",
    "    print(f\"O número {numero_informado} pertence à sequência de Fibonacci.\")\n",
    "else:\n",
    "    print(f\"O número {numero_informado} não pertence à sequência de Fibonacci.\")"
   ]
  },
  {
   "cell_type": "code",
   "execution_count": null,
   "metadata": {},
   "outputs": [],
   "source": [
    "# Questão 2\n",
    "\n",
    "def verificar_letra(texto):\n",
    "    contador = texto.lower().count('a')\n",
    "\n",
    "    if contador > 0:\n",
    "        print(f\"A letra 'a' aparece {contador} vezes na string.\")\n",
    "    else:\n",
    "        print(f\"A letra 'a' não está presente na string.\")\n",
    "\n",
    "texto = input(\"Informe algum texto: \")\n",
    "verificar_letra(texto)"
   ]
  },
  {
   "cell_type": "code",
   "execution_count": 7,
   "metadata": {},
   "outputs": [
    {
     "name": "stdout",
     "output_type": "stream",
     "text": [
      "77\n"
     ]
    }
   ],
   "source": [
    "#Questao 3\n",
    "indice = 12\n",
    "soma = 0\n",
    "k = 1\n",
    "while(k < indice):\n",
    "    k += 1\n",
    "    soma += k\n",
    "print(soma)\n",
    "\n"
   ]
  },
  {
   "cell_type": "markdown",
   "metadata": {},
   "source": [
    "Questão 4:\n",
    "a) 1, 3, 5, 7, 9 - soma + 2 a cada numero\n",
    "b) 2, 4, 8, 16, 32, 64, 128 multiplica * 2 em cada numero\n",
    "c) 0, 1, 4, 9, 16, 25, 36, 49 - 1 - 3 - 5 - 7 - 9 - 11 - 13 subsequencia formada \n",
    "d) 4, 16, 36, 64, 100 -  12 - 20 - 28 - 36 subsequencia formada\n",
    "e) 1, 1, 2, 3, 5, 8, 13 sequencia de fibnacci\n",
    "f) 2,10, 12, 16, 17, 18, 19, 20 - 8 - 2 - 4 - 1 - 1 - 1\n"
   ]
  },
  {
   "cell_type": "markdown",
   "metadata": {},
   "source": [
    "Questão 5:\n",
    "\n",
    "5) Você está em uma sala com três interruptores, cada um conectado a uma lâmpada em salas diferentes. Você não pode ver as lâmpadas da sala em que está, mas pode ligar e desligar os interruptores quantas vezes quiser. Seu objetivo é descobrir qual interruptor controla qual lâmpada. Como você faria para descobrir, usando apenas duas idas até uma das salas das lâmpadas, qual interruptor controla cada lâmpada?  \n",
    "\n",
    "Sala principal - Interruptor 1, Interruptor 2, Interruptor 3\n",
    "\n",
    "Supondo que a lampada seja incandescente;\n",
    "\n",
    "Passo 1. \n",
    "    Ligo o interruptor 1 e o deixo ligado por no  minimo 5 minutos e desligo;\n",
    "\n",
    "Passo 2.\n",
    "    Ligo o Interruptor 2 e deixo ligado;\n",
    "\n",
    "Passo 3.\n",
    "    Vou até uma Sala e verifico;\n",
    "\n",
    "Se Estiver desligada e fria é o interruptor 3;\n",
    "Se estiver ligada é o interrutor 2;\n",
    "Se estiver desligada e quente é o interruptor 1;\n",
    "\n",
    "iria em apenas duas salas seguindo o critério de duas idas.\n"
   ]
  }
 ],
 "metadata": {
  "kernelspec": {
   "display_name": "Python 3",
   "language": "python",
   "name": "python3"
  },
  "language_info": {
   "codemirror_mode": {
    "name": "ipython",
    "version": 3
   },
   "file_extension": ".py",
   "mimetype": "text/x-python",
   "name": "python",
   "nbconvert_exporter": "python",
   "pygments_lexer": "ipython3",
   "version": "3.12.5"
  }
 },
 "nbformat": 4,
 "nbformat_minor": 2
}
